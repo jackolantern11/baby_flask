{
 "cells": [
  {
   "cell_type": "code",
   "execution_count": null,
   "metadata": {},
   "outputs": [],
   "source": []
  },
  {
   "cell_type": "code",
   "execution_count": 3,
   "metadata": {
    "collapsed": false
   },
   "outputs": [
    {
     "ename": "ModuleNotFoundError",
     "evalue": "No module named 'requests'",
     "output_type": "error",
     "traceback": [
      "\u001b[0;31m---------------------------------------------------------------------------\u001b[0m",
      "\u001b[0;31mModuleNotFoundError\u001b[0m                       Traceback (most recent call last)",
      "\u001b[1;32m/Users/zach/PycharmProjects/baby_flask/explore_data.ipynb Cell 1\u001b[0m line \u001b[0;36m1\n\u001b[0;32m----> <a href='vscode-notebook-cell:/Users/zach/PycharmProjects/baby_flask/explore_data.ipynb#W0sZmlsZQ%3D%3D?line=0'>1</a>\u001b[0m \u001b[39mimport\u001b[39;00m \u001b[39mrequests\u001b[39;00m\n\u001b[1;32m      <a href='vscode-notebook-cell:/Users/zach/PycharmProjects/baby_flask/explore_data.ipynb#W0sZmlsZQ%3D%3D?line=1'>2</a>\u001b[0m \u001b[39mimport\u001b[39;00m \u001b[39mmatplotlib\u001b[39;00m\u001b[39m.\u001b[39;00m\u001b[39mpyplot\u001b[39;00m \u001b[39mas\u001b[39;00m \u001b[39mplt\u001b[39;00m\n\u001b[1;32m      <a href='vscode-notebook-cell:/Users/zach/PycharmProjects/baby_flask/explore_data.ipynb#W0sZmlsZQ%3D%3D?line=2'>3</a>\u001b[0m \u001b[39mimport\u001b[39;00m \u001b[39mnumpy\u001b[39;00m \u001b[39mas\u001b[39;00m \u001b[39mnp\u001b[39;00m\n",
      "\u001b[0;31mModuleNotFoundError\u001b[0m: No module named 'requests'"
     ]
    }
   ],
   "source": [
    "import requests\n",
    "import matplotlib.pyplot as plt\n",
    "import numpy as np\n",
    "import pandas as pd\n",
    "import seaborn as sns\n",
    "import csv\n",
    "from zipfile import ZipFile"
   ]
  },
  {
   "cell_type": "code",
   "execution_count": 3,
   "metadata": {},
   "outputs": [],
   "source": [
    "import requests\n",
    "import csv\n",
    "from zipfile import ZipFile\n",
    "\n",
    "url = \"https://www.ssa.gov/oact/babynames/names.zip\"\n",
    "\n",
    "with requests.get(url) as response:\n",
    "\n",
    "    with open(\"names.zip\", \"wb\") as temp_file:\n",
    "        temp_file.write(response.content)\n",
    "\n",
    "\n",
    "# This list will hold all our data. We initialize it with the header row.\n",
    "data_list = [[\"year\", \"name\", \"gender\", \"count\"]]\n",
    "\n",
    "# We first read the zip file using a zipfile.ZipFile object.\n",
    "with ZipFile(\"names.zip\") as temp_zip:\n",
    "\n",
    "    # Then we read the file list.\n",
    "    for file_name in temp_zip.namelist():\n",
    "\n",
    "        # We will only process .txt files.\n",
    "        if \".txt\" in file_name:\n",
    "\n",
    "            # Now we read the current file from the zip file.\n",
    "            with temp_zip.open(file_name) as temp_file:\n",
    "\n",
    "                # The file is opened as binary, we decode it using utf-8 so it can be manipulated as a string.\n",
    "                for line in temp_file.read().decode(\"utf-8\").splitlines():\n",
    "\n",
    "                    # We prepare our desired data fields and add them to the data list.\n",
    "                    line_chunks = line.split(\",\")\n",
    "                    year = file_name[3:7]\n",
    "                    name = line_chunks[0]\n",
    "                    gender = line_chunks[1]\n",
    "                    count = line_chunks[2]\n",
    "\n",
    "                    data_list.append([year, name, gender, count])\n",
    "\n",
    "# We save the data list into a csv file.\n",
    "csv.writer(open(\"data.csv\", \"w\", newline=\"\",\n",
    "                encoding=\"utf-8\")).writerows(data_list)"
   ]
  },
  {
   "cell_type": "markdown",
   "metadata": {
    "collapsed": false
   },
   "source": [
    "## Upload to SQLLITE DB for dev stuff"
   ]
  },
  {
   "cell_type": "code",
   "execution_count": null,
   "metadata": {
    "collapsed": false
   },
   "outputs": [],
   "source": [
    "import pandas as pd\n",
    "df = pd.read_csv(\"data.csv\")\n",
    "df.head()"
   ]
  },
  {
   "cell_type": "code",
   "execution_count": null,
   "metadata": {
    "collapsed": false
   },
   "outputs": [],
   "source": [
    "from sqlalchemy import create_engine\n",
    "db_uri = r'sqlite:///C:\\Users\\z0f010w.HOMEOFFICE\\PycharmProjects\\baby_flask\\data-dev.sqlite'\n",
    "engine = create_engine(db_uri, echo=True)\n",
    "\n",
    "with engine.connect() as conn:\n",
    "    df.to_sql('federal_data', con=conn, if_exists='append', index=False)\n",
    "    conn.commit()"
   ]
  },
  {
   "cell_type": "code",
   "execution_count": 5,
   "metadata": {},
   "outputs": [
    {
     "name": "stdout",
     "output_type": "stream",
     "text": [
      "All Name Records Since 1880: 2085158\n",
      "Min Year: 1880 to Max Year: 2022\n"
     ]
    }
   ],
   "source": [
    "df = pd.read_csv(\"data.csv\")\n",
    "print(f\"All Name Records Since 1880: {len(df.index)}\")\n",
    "print(f\"Min Year: {df['year'].min()} to Max Year: {df['year'].max()}\")"
   ]
  },
  {
   "cell_type": "code",
   "execution_count": 6,
   "metadata": {},
   "outputs": [
    {
     "data": {
      "text/html": [
       "<div>\n",
       "<style scoped>\n",
       "    .dataframe tbody tr th:only-of-type {\n",
       "        vertical-align: middle;\n",
       "    }\n",
       "\n",
       "    .dataframe tbody tr th {\n",
       "        vertical-align: top;\n",
       "    }\n",
       "\n",
       "    .dataframe thead th {\n",
       "        text-align: right;\n",
       "    }\n",
       "</style>\n",
       "<table border=\"1\" class=\"dataframe\">\n",
       "  <thead>\n",
       "    <tr style=\"text-align: right;\">\n",
       "      <th></th>\n",
       "      <th>year</th>\n",
       "      <th>name</th>\n",
       "      <th>gender</th>\n",
       "      <th>count</th>\n",
       "    </tr>\n",
       "  </thead>\n",
       "  <tbody>\n",
       "    <tr>\n",
       "      <th>0</th>\n",
       "      <td>1880</td>\n",
       "      <td>Mary</td>\n",
       "      <td>F</td>\n",
       "      <td>7065</td>\n",
       "    </tr>\n",
       "    <tr>\n",
       "      <th>1</th>\n",
       "      <td>1880</td>\n",
       "      <td>Anna</td>\n",
       "      <td>F</td>\n",
       "      <td>2604</td>\n",
       "    </tr>\n",
       "    <tr>\n",
       "      <th>2</th>\n",
       "      <td>1880</td>\n",
       "      <td>Emma</td>\n",
       "      <td>F</td>\n",
       "      <td>2003</td>\n",
       "    </tr>\n",
       "    <tr>\n",
       "      <th>3</th>\n",
       "      <td>1880</td>\n",
       "      <td>Elizabeth</td>\n",
       "      <td>F</td>\n",
       "      <td>1939</td>\n",
       "    </tr>\n",
       "    <tr>\n",
       "      <th>4</th>\n",
       "      <td>1880</td>\n",
       "      <td>Minnie</td>\n",
       "      <td>F</td>\n",
       "      <td>1746</td>\n",
       "    </tr>\n",
       "  </tbody>\n",
       "</table>\n",
       "</div>"
      ],
      "text/plain": [
       "   year       name gender  count\n",
       "0  1880       Mary      F   7065\n",
       "1  1880       Anna      F   2604\n",
       "2  1880       Emma      F   2003\n",
       "3  1880  Elizabeth      F   1939\n",
       "4  1880     Minnie      F   1746"
      ]
     },
     "execution_count": 6,
     "metadata": {},
     "output_type": "execute_result"
    }
   ],
   "source": [
    "df.head()"
   ]
  },
  {
   "cell_type": "markdown",
   "metadata": {},
   "source": [
    "## Calculate and Merge in Total Births for Each Year, then Total per Gender per Year"
   ]
  },
  {
   "cell_type": "code",
   "execution_count": 4,
   "metadata": {},
   "outputs": [
    {
     "data": {
      "text/html": [
       "<div>\n",
       "<style scoped>\n",
       "    .dataframe tbody tr th:only-of-type {\n",
       "        vertical-align: middle;\n",
       "    }\n",
       "\n",
       "    .dataframe tbody tr th {\n",
       "        vertical-align: top;\n",
       "    }\n",
       "\n",
       "    .dataframe thead th {\n",
       "        text-align: right;\n",
       "    }\n",
       "</style>\n",
       "<table border=\"1\" class=\"dataframe\">\n",
       "  <thead>\n",
       "    <tr style=\"text-align: right;\">\n",
       "      <th></th>\n",
       "      <th>year</th>\n",
       "      <th>name</th>\n",
       "      <th>gender</th>\n",
       "      <th>count</th>\n",
       "      <th>year_total</th>\n",
       "    </tr>\n",
       "  </thead>\n",
       "  <tbody>\n",
       "    <tr>\n",
       "      <th>0</th>\n",
       "      <td>1880</td>\n",
       "      <td>Mary</td>\n",
       "      <td>F</td>\n",
       "      <td>7065</td>\n",
       "      <td>201484</td>\n",
       "    </tr>\n",
       "    <tr>\n",
       "      <th>1</th>\n",
       "      <td>1880</td>\n",
       "      <td>Anna</td>\n",
       "      <td>F</td>\n",
       "      <td>2604</td>\n",
       "      <td>201484</td>\n",
       "    </tr>\n",
       "    <tr>\n",
       "      <th>2</th>\n",
       "      <td>1880</td>\n",
       "      <td>Emma</td>\n",
       "      <td>F</td>\n",
       "      <td>2003</td>\n",
       "      <td>201484</td>\n",
       "    </tr>\n",
       "    <tr>\n",
       "      <th>3</th>\n",
       "      <td>1880</td>\n",
       "      <td>Elizabeth</td>\n",
       "      <td>F</td>\n",
       "      <td>1939</td>\n",
       "      <td>201484</td>\n",
       "    </tr>\n",
       "    <tr>\n",
       "      <th>4</th>\n",
       "      <td>1880</td>\n",
       "      <td>Minnie</td>\n",
       "      <td>F</td>\n",
       "      <td>1746</td>\n",
       "      <td>201484</td>\n",
       "    </tr>\n",
       "  </tbody>\n",
       "</table>\n",
       "</div>"
      ],
      "text/plain": [
       "   year       name gender  count  year_total\n",
       "0  1880       Mary      F   7065      201484\n",
       "1  1880       Anna      F   2604      201484\n",
       "2  1880       Emma      F   2003      201484\n",
       "3  1880  Elizabeth      F   1939      201484\n",
       "4  1880     Minnie      F   1746      201484"
      ]
     },
     "execution_count": 4,
     "metadata": {},
     "output_type": "execute_result"
    }
   ],
   "source": [
    "df = df.merge(\n",
    "        df.groupby([\"year\"], as_index=False)[\"count\"].sum().rename(columns={\"count\": \"year_total\"}),\n",
    "        how=\"left\",\n",
    "        on=[\"year\"],\n",
    "    )\n",
    "df.head()"
   ]
  },
  {
   "cell_type": "code",
   "execution_count": 5,
   "metadata": {},
   "outputs": [
    {
     "data": {
      "text/html": [
       "<div>\n",
       "<style scoped>\n",
       "    .dataframe tbody tr th:only-of-type {\n",
       "        vertical-align: middle;\n",
       "    }\n",
       "\n",
       "    .dataframe tbody tr th {\n",
       "        vertical-align: top;\n",
       "    }\n",
       "\n",
       "    .dataframe thead th {\n",
       "        text-align: right;\n",
       "    }\n",
       "</style>\n",
       "<table border=\"1\" class=\"dataframe\">\n",
       "  <thead>\n",
       "    <tr style=\"text-align: right;\">\n",
       "      <th></th>\n",
       "      <th>year</th>\n",
       "      <th>name</th>\n",
       "      <th>gender</th>\n",
       "      <th>count</th>\n",
       "      <th>year_total</th>\n",
       "      <th>year_gender_total</th>\n",
       "    </tr>\n",
       "  </thead>\n",
       "  <tbody>\n",
       "    <tr>\n",
       "      <th>0</th>\n",
       "      <td>1880</td>\n",
       "      <td>Mary</td>\n",
       "      <td>F</td>\n",
       "      <td>7065</td>\n",
       "      <td>201484</td>\n",
       "      <td>90994</td>\n",
       "    </tr>\n",
       "    <tr>\n",
       "      <th>1</th>\n",
       "      <td>1880</td>\n",
       "      <td>Anna</td>\n",
       "      <td>F</td>\n",
       "      <td>2604</td>\n",
       "      <td>201484</td>\n",
       "      <td>90994</td>\n",
       "    </tr>\n",
       "    <tr>\n",
       "      <th>2</th>\n",
       "      <td>1880</td>\n",
       "      <td>Emma</td>\n",
       "      <td>F</td>\n",
       "      <td>2003</td>\n",
       "      <td>201484</td>\n",
       "      <td>90994</td>\n",
       "    </tr>\n",
       "    <tr>\n",
       "      <th>3</th>\n",
       "      <td>1880</td>\n",
       "      <td>Elizabeth</td>\n",
       "      <td>F</td>\n",
       "      <td>1939</td>\n",
       "      <td>201484</td>\n",
       "      <td>90994</td>\n",
       "    </tr>\n",
       "    <tr>\n",
       "      <th>4</th>\n",
       "      <td>1880</td>\n",
       "      <td>Minnie</td>\n",
       "      <td>F</td>\n",
       "      <td>1746</td>\n",
       "      <td>201484</td>\n",
       "      <td>90994</td>\n",
       "    </tr>\n",
       "  </tbody>\n",
       "</table>\n",
       "</div>"
      ],
      "text/plain": [
       "   year       name gender  count  year_total  year_gender_total\n",
       "0  1880       Mary      F   7065      201484              90994\n",
       "1  1880       Anna      F   2604      201484              90994\n",
       "2  1880       Emma      F   2003      201484              90994\n",
       "3  1880  Elizabeth      F   1939      201484              90994\n",
       "4  1880     Minnie      F   1746      201484              90994"
      ]
     },
     "execution_count": 5,
     "metadata": {},
     "output_type": "execute_result"
    }
   ],
   "source": [
    "df = df.merge(\n",
    "        df.groupby([\"year\", \"gender\"], as_index=False)[\"count\"].sum().rename(columns={\"count\": \"year_gender_total\"}),\n",
    "        how=\"left\",\n",
    "        on=[\"year\", \"gender\"],\n",
    "    )\n",
    "df.head()"
   ]
  },
  {
   "cell_type": "markdown",
   "metadata": {},
   "source": [
    "## Calculate Proportions per total and gender per year"
   ]
  },
  {
   "cell_type": "code",
   "execution_count": 6,
   "metadata": {},
   "outputs": [
    {
     "data": {
      "text/html": [
       "<div>\n",
       "<style scoped>\n",
       "    .dataframe tbody tr th:only-of-type {\n",
       "        vertical-align: middle;\n",
       "    }\n",
       "\n",
       "    .dataframe tbody tr th {\n",
       "        vertical-align: top;\n",
       "    }\n",
       "\n",
       "    .dataframe thead th {\n",
       "        text-align: right;\n",
       "    }\n",
       "</style>\n",
       "<table border=\"1\" class=\"dataframe\">\n",
       "  <thead>\n",
       "    <tr style=\"text-align: right;\">\n",
       "      <th></th>\n",
       "      <th>year</th>\n",
       "      <th>name</th>\n",
       "      <th>gender</th>\n",
       "      <th>count</th>\n",
       "      <th>year_total</th>\n",
       "      <th>year_gender_total</th>\n",
       "      <th>gender_proportion</th>\n",
       "      <th>total_proportion</th>\n",
       "    </tr>\n",
       "  </thead>\n",
       "  <tbody>\n",
       "    <tr>\n",
       "      <th>0</th>\n",
       "      <td>1880</td>\n",
       "      <td>Mary</td>\n",
       "      <td>F</td>\n",
       "      <td>7065</td>\n",
       "      <td>201484</td>\n",
       "      <td>90994</td>\n",
       "      <td>0.077642</td>\n",
       "      <td>0.035065</td>\n",
       "    </tr>\n",
       "    <tr>\n",
       "      <th>1</th>\n",
       "      <td>1880</td>\n",
       "      <td>Anna</td>\n",
       "      <td>F</td>\n",
       "      <td>2604</td>\n",
       "      <td>201484</td>\n",
       "      <td>90994</td>\n",
       "      <td>0.028617</td>\n",
       "      <td>0.012924</td>\n",
       "    </tr>\n",
       "    <tr>\n",
       "      <th>2</th>\n",
       "      <td>1880</td>\n",
       "      <td>Emma</td>\n",
       "      <td>F</td>\n",
       "      <td>2003</td>\n",
       "      <td>201484</td>\n",
       "      <td>90994</td>\n",
       "      <td>0.022012</td>\n",
       "      <td>0.009941</td>\n",
       "    </tr>\n",
       "    <tr>\n",
       "      <th>3</th>\n",
       "      <td>1880</td>\n",
       "      <td>Elizabeth</td>\n",
       "      <td>F</td>\n",
       "      <td>1939</td>\n",
       "      <td>201484</td>\n",
       "      <td>90994</td>\n",
       "      <td>0.021309</td>\n",
       "      <td>0.009624</td>\n",
       "    </tr>\n",
       "    <tr>\n",
       "      <th>4</th>\n",
       "      <td>1880</td>\n",
       "      <td>Minnie</td>\n",
       "      <td>F</td>\n",
       "      <td>1746</td>\n",
       "      <td>201484</td>\n",
       "      <td>90994</td>\n",
       "      <td>0.019188</td>\n",
       "      <td>0.008666</td>\n",
       "    </tr>\n",
       "  </tbody>\n",
       "</table>\n",
       "</div>"
      ],
      "text/plain": [
       "   year       name gender  count  year_total  year_gender_total  \\\n",
       "0  1880       Mary      F   7065      201484              90994   \n",
       "1  1880       Anna      F   2604      201484              90994   \n",
       "2  1880       Emma      F   2003      201484              90994   \n",
       "3  1880  Elizabeth      F   1939      201484              90994   \n",
       "4  1880     Minnie      F   1746      201484              90994   \n",
       "\n",
       "   gender_proportion  total_proportion  \n",
       "0           0.077642          0.035065  \n",
       "1           0.028617          0.012924  \n",
       "2           0.022012          0.009941  \n",
       "3           0.021309          0.009624  \n",
       "4           0.019188          0.008666  "
      ]
     },
     "execution_count": 6,
     "metadata": {},
     "output_type": "execute_result"
    }
   ],
   "source": [
    "df['gender_proportion'] = df['count'] / df['year_gender_total']\n",
    "df['total_proportion'] = df['count'] / df['year_total']\n",
    "df.head()"
   ]
  },
  {
   "cell_type": "markdown",
   "metadata": {},
   "source": [
    "## Determine Most Popular Year for Each Name by Total Names Given -> df2"
   ]
  },
  {
   "cell_type": "code",
   "execution_count": 7,
   "metadata": {},
   "outputs": [
    {
     "name": "stdout",
     "output_type": "stream",
     "text": [
      "Length of df2: 112620\n",
      "Number of unique names: 101338\n"
     ]
    },
    {
     "data": {
      "text/html": [
       "<div>\n",
       "<style scoped>\n",
       "    .dataframe tbody tr th:only-of-type {\n",
       "        vertical-align: middle;\n",
       "    }\n",
       "\n",
       "    .dataframe tbody tr th {\n",
       "        vertical-align: top;\n",
       "    }\n",
       "\n",
       "    .dataframe thead th {\n",
       "        text-align: right;\n",
       "    }\n",
       "</style>\n",
       "<table border=\"1\" class=\"dataframe\">\n",
       "  <thead>\n",
       "    <tr style=\"text-align: right;\">\n",
       "      <th></th>\n",
       "      <th>year</th>\n",
       "      <th>name</th>\n",
       "      <th>gender</th>\n",
       "      <th>count</th>\n",
       "      <th>year_total</th>\n",
       "      <th>year_gender_total</th>\n",
       "      <th>gender_proportion</th>\n",
       "      <th>total_proportion</th>\n",
       "    </tr>\n",
       "  </thead>\n",
       "  <tbody>\n",
       "    <tr>\n",
       "      <th>0</th>\n",
       "      <td>1880</td>\n",
       "      <td>Manerva</td>\n",
       "      <td>F</td>\n",
       "      <td>10</td>\n",
       "      <td>201484</td>\n",
       "      <td>90994</td>\n",
       "      <td>0.000110</td>\n",
       "      <td>0.000050</td>\n",
       "    </tr>\n",
       "    <tr>\n",
       "      <th>1</th>\n",
       "      <td>1880</td>\n",
       "      <td>Neppie</td>\n",
       "      <td>F</td>\n",
       "      <td>7</td>\n",
       "      <td>201484</td>\n",
       "      <td>90994</td>\n",
       "      <td>0.000077</td>\n",
       "      <td>0.000035</td>\n",
       "    </tr>\n",
       "    <tr>\n",
       "      <th>2</th>\n",
       "      <td>1880</td>\n",
       "      <td>Arch</td>\n",
       "      <td>M</td>\n",
       "      <td>61</td>\n",
       "      <td>201484</td>\n",
       "      <td>110490</td>\n",
       "      <td>0.000552</td>\n",
       "      <td>0.000303</td>\n",
       "    </tr>\n",
       "    <tr>\n",
       "      <th>3</th>\n",
       "      <td>1880</td>\n",
       "      <td>Redden</td>\n",
       "      <td>M</td>\n",
       "      <td>6</td>\n",
       "      <td>201484</td>\n",
       "      <td>110490</td>\n",
       "      <td>0.000054</td>\n",
       "      <td>0.000030</td>\n",
       "    </tr>\n",
       "    <tr>\n",
       "      <th>4</th>\n",
       "      <td>1880</td>\n",
       "      <td>Merida</td>\n",
       "      <td>M</td>\n",
       "      <td>5</td>\n",
       "      <td>201484</td>\n",
       "      <td>110490</td>\n",
       "      <td>0.000045</td>\n",
       "      <td>0.000025</td>\n",
       "    </tr>\n",
       "  </tbody>\n",
       "</table>\n",
       "</div>"
      ],
      "text/plain": [
       "   year     name gender  count  year_total  year_gender_total  \\\n",
       "0  1880  Manerva      F     10      201484              90994   \n",
       "1  1880   Neppie      F      7      201484              90994   \n",
       "2  1880     Arch      M     61      201484             110490   \n",
       "3  1880   Redden      M      6      201484             110490   \n",
       "4  1880   Merida      M      5      201484             110490   \n",
       "\n",
       "   gender_proportion  total_proportion  \n",
       "0           0.000110          0.000050  \n",
       "1           0.000077          0.000035  \n",
       "2           0.000552          0.000303  \n",
       "3           0.000054          0.000030  \n",
       "4           0.000045          0.000025  "
      ]
     },
     "execution_count": 7,
     "metadata": {},
     "output_type": "execute_result"
    }
   ],
   "source": [
    "popular_years = (\n",
    "    df.merge(\n",
    "        df.groupby([\"name\", \"gender\"], as_index=False)[\"count\"].max(),\n",
    "        how=\"inner\",\n",
    "        on=[\"name\", \"gender\", \"count\"],\n",
    "    )\n",
    "    .groupby([\"name\", \"gender\"], as_index=False)[\"year\"]\n",
    "    .max()\n",
    "    .rename(columns={\"year\": \"year_pop\"}, inplace=False)\n",
    ")\n",
    "\n",
    "df2 = df.merge(popular_years.rename(columns={\"year_pop\": \"year\"}), how='inner', on=['name', 'gender', 'year'])\n",
    "print(f\"Length of df2: {len(df2.index)}\")\n",
    "print(f\"Number of unique names: {len(df2['name'].unique())}\")\n",
    "df2.head()"
   ]
  },
  {
   "cell_type": "code",
   "execution_count": 8,
   "metadata": {},
   "outputs": [
    {
     "data": {
      "text/html": [
       "<div>\n",
       "<style scoped>\n",
       "    .dataframe tbody tr th:only-of-type {\n",
       "        vertical-align: middle;\n",
       "    }\n",
       "\n",
       "    .dataframe tbody tr th {\n",
       "        vertical-align: top;\n",
       "    }\n",
       "\n",
       "    .dataframe thead th {\n",
       "        text-align: right;\n",
       "    }\n",
       "</style>\n",
       "<table border=\"1\" class=\"dataframe\">\n",
       "  <thead>\n",
       "    <tr style=\"text-align: right;\">\n",
       "      <th></th>\n",
       "      <th>year</th>\n",
       "      <th>name</th>\n",
       "      <th>gender</th>\n",
       "      <th>count</th>\n",
       "      <th>year_total</th>\n",
       "      <th>year_gender_total</th>\n",
       "      <th>gender_proportion</th>\n",
       "      <th>total_proportion</th>\n",
       "    </tr>\n",
       "  </thead>\n",
       "  <tbody>\n",
       "    <tr>\n",
       "      <th>32997</th>\n",
       "      <td>1985</td>\n",
       "      <td>Ryan</td>\n",
       "      <td>M</td>\n",
       "      <td>29912</td>\n",
       "      <td>3569087</td>\n",
       "      <td>1848322</td>\n",
       "      <td>0.016183</td>\n",
       "      <td>0.008381</td>\n",
       "    </tr>\n",
       "    <tr>\n",
       "      <th>95710</th>\n",
       "      <td>2018</td>\n",
       "      <td>Ryan</td>\n",
       "      <td>F</td>\n",
       "      <td>865</td>\n",
       "      <td>3508655</td>\n",
       "      <td>1696917</td>\n",
       "      <td>0.000510</td>\n",
       "      <td>0.000247</td>\n",
       "    </tr>\n",
       "  </tbody>\n",
       "</table>\n",
       "</div>"
      ],
      "text/plain": [
       "       year  name gender  count  year_total  year_gender_total  \\\n",
       "32997  1985  Ryan      M  29912     3569087            1848322   \n",
       "95710  2018  Ryan      F    865     3508655            1696917   \n",
       "\n",
       "       gender_proportion  total_proportion  \n",
       "32997           0.016183          0.008381  \n",
       "95710           0.000510          0.000247  "
      ]
     },
     "execution_count": 8,
     "metadata": {},
     "output_type": "execute_result"
    }
   ],
   "source": [
    "df2[df2['name'] == 'Ryan']"
   ]
  },
  {
   "cell_type": "markdown",
   "metadata": {},
   "source": [
    "## Determine Most Popular Year for Each Name by Proportion of Total Names Given -> df2"
   ]
  },
  {
   "cell_type": "code",
   "execution_count": 9,
   "metadata": {},
   "outputs": [
    {
     "name": "stdout",
     "output_type": "stream",
     "text": [
      "Length of df2: 112620\n",
      "Number of unique names: 101338\n"
     ]
    },
    {
     "data": {
      "text/html": [
       "<div>\n",
       "<style scoped>\n",
       "    .dataframe tbody tr th:only-of-type {\n",
       "        vertical-align: middle;\n",
       "    }\n",
       "\n",
       "    .dataframe tbody tr th {\n",
       "        vertical-align: top;\n",
       "    }\n",
       "\n",
       "    .dataframe thead th {\n",
       "        text-align: right;\n",
       "    }\n",
       "</style>\n",
       "<table border=\"1\" class=\"dataframe\">\n",
       "  <thead>\n",
       "    <tr style=\"text-align: right;\">\n",
       "      <th></th>\n",
       "      <th>year</th>\n",
       "      <th>name</th>\n",
       "      <th>gender</th>\n",
       "      <th>count</th>\n",
       "      <th>year_total</th>\n",
       "      <th>year_gender_total</th>\n",
       "      <th>gender_proportion</th>\n",
       "      <th>total_proportion</th>\n",
       "    </tr>\n",
       "  </thead>\n",
       "  <tbody>\n",
       "    <tr>\n",
       "      <th>0</th>\n",
       "      <td>1880</td>\n",
       "      <td>Harriet</td>\n",
       "      <td>F</td>\n",
       "      <td>319</td>\n",
       "      <td>201484</td>\n",
       "      <td>90994</td>\n",
       "      <td>0.003506</td>\n",
       "      <td>0.001583</td>\n",
       "    </tr>\n",
       "    <tr>\n",
       "      <th>1</th>\n",
       "      <td>1880</td>\n",
       "      <td>Kate</td>\n",
       "      <td>F</td>\n",
       "      <td>299</td>\n",
       "      <td>201484</td>\n",
       "      <td>90994</td>\n",
       "      <td>0.003286</td>\n",
       "      <td>0.001484</td>\n",
       "    </tr>\n",
       "    <tr>\n",
       "      <th>2</th>\n",
       "      <td>1880</td>\n",
       "      <td>Cordelia</td>\n",
       "      <td>F</td>\n",
       "      <td>58</td>\n",
       "      <td>201484</td>\n",
       "      <td>90994</td>\n",
       "      <td>0.000637</td>\n",
       "      <td>0.000288</td>\n",
       "    </tr>\n",
       "    <tr>\n",
       "      <th>3</th>\n",
       "      <td>1880</td>\n",
       "      <td>Lina</td>\n",
       "      <td>F</td>\n",
       "      <td>49</td>\n",
       "      <td>201484</td>\n",
       "      <td>90994</td>\n",
       "      <td>0.000538</td>\n",
       "      <td>0.000243</td>\n",
       "    </tr>\n",
       "    <tr>\n",
       "      <th>4</th>\n",
       "      <td>1880</td>\n",
       "      <td>John</td>\n",
       "      <td>F</td>\n",
       "      <td>46</td>\n",
       "      <td>201484</td>\n",
       "      <td>90994</td>\n",
       "      <td>0.000506</td>\n",
       "      <td>0.000228</td>\n",
       "    </tr>\n",
       "  </tbody>\n",
       "</table>\n",
       "</div>"
      ],
      "text/plain": [
       "   year      name gender  count  year_total  year_gender_total  \\\n",
       "0  1880   Harriet      F    319      201484              90994   \n",
       "1  1880      Kate      F    299      201484              90994   \n",
       "2  1880  Cordelia      F     58      201484              90994   \n",
       "3  1880      Lina      F     49      201484              90994   \n",
       "4  1880      John      F     46      201484              90994   \n",
       "\n",
       "   gender_proportion  total_proportion  \n",
       "0           0.003506          0.001583  \n",
       "1           0.003286          0.001484  \n",
       "2           0.000637          0.000288  \n",
       "3           0.000538          0.000243  \n",
       "4           0.000506          0.000228  "
      ]
     },
     "execution_count": 9,
     "metadata": {},
     "output_type": "execute_result"
    }
   ],
   "source": [
    "popular_proportion_years = (\n",
    "    df.merge(\n",
    "        df.groupby([\"name\", \"gender\"], as_index=False)[\"total_proportion\"].max(),\n",
    "        how=\"inner\",\n",
    "        on=[\"name\", \"gender\", \"total_proportion\"],\n",
    "    )\n",
    "    .groupby([\"name\", \"gender\"], as_index=False)[\"year\"]\n",
    "    .max()\n",
    "    .rename(columns={\"year\": \"year_pop\"}, inplace=False)\n",
    ")\n",
    "\n",
    "c = df.merge(popular_proportion_years.rename(columns={\"year_pop\": \"year\"}), how='inner', on=['name', 'gender', 'year'])\n",
    "print(f\"Length of df2: {len(c.index)}\")\n",
    "print(f\"Number of unique names: {len(c['name'].unique())}\")\n",
    "c.head()"
   ]
  },
  {
   "cell_type": "code",
   "execution_count": 10,
   "metadata": {},
   "outputs": [
    {
     "data": {
      "text/html": [
       "<div>\n",
       "<style scoped>\n",
       "    .dataframe tbody tr th:only-of-type {\n",
       "        vertical-align: middle;\n",
       "    }\n",
       "\n",
       "    .dataframe tbody tr th {\n",
       "        vertical-align: top;\n",
       "    }\n",
       "\n",
       "    .dataframe thead th {\n",
       "        text-align: right;\n",
       "    }\n",
       "</style>\n",
       "<table border=\"1\" class=\"dataframe\">\n",
       "  <thead>\n",
       "    <tr style=\"text-align: right;\">\n",
       "      <th></th>\n",
       "      <th>year</th>\n",
       "      <th>name</th>\n",
       "      <th>gender</th>\n",
       "      <th>count</th>\n",
       "      <th>year_total</th>\n",
       "      <th>year_gender_total</th>\n",
       "      <th>gender_proportion</th>\n",
       "      <th>total_proportion</th>\n",
       "    </tr>\n",
       "  </thead>\n",
       "  <tbody>\n",
       "    <tr>\n",
       "      <th>36907</th>\n",
       "      <td>1985</td>\n",
       "      <td>Ryan</td>\n",
       "      <td>M</td>\n",
       "      <td>29912</td>\n",
       "      <td>3569087</td>\n",
       "      <td>1848322</td>\n",
       "      <td>0.016183</td>\n",
       "      <td>0.008381</td>\n",
       "    </tr>\n",
       "    <tr>\n",
       "      <th>95394</th>\n",
       "      <td>2018</td>\n",
       "      <td>Ryan</td>\n",
       "      <td>F</td>\n",
       "      <td>865</td>\n",
       "      <td>3508655</td>\n",
       "      <td>1696917</td>\n",
       "      <td>0.000510</td>\n",
       "      <td>0.000247</td>\n",
       "    </tr>\n",
       "  </tbody>\n",
       "</table>\n",
       "</div>"
      ],
      "text/plain": [
       "       year  name gender  count  year_total  year_gender_total  \\\n",
       "36907  1985  Ryan      M  29912     3569087            1848322   \n",
       "95394  2018  Ryan      F    865     3508655            1696917   \n",
       "\n",
       "       gender_proportion  total_proportion  \n",
       "36907           0.016183          0.008381  \n",
       "95394           0.000510          0.000247  "
      ]
     },
     "execution_count": 10,
     "metadata": {},
     "output_type": "execute_result"
    }
   ],
   "source": [
    "d = c[c['name'] == 'Ryan']\n",
    "d"
   ]
  },
  {
   "cell_type": "code",
   "execution_count": 11,
   "metadata": {},
   "outputs": [],
   "source": [
    "# Those parameters generate plots with a mauve color.\n",
    "sns.set(style=\"ticks\",\n",
    "        rc={\n",
    "            \"figure.figsize\": [12, 7],\n",
    "            \"text.color\": \"white\",\n",
    "            \"axes.labelcolor\": \"white\",\n",
    "            \"axes.edgecolor\": \"white\",\n",
    "            \"xtick.color\": \"white\",\n",
    "            \"ytick.color\": \"white\",\n",
    "            \"axes.facecolor\": \"#443941\",\n",
    "            \"figure.facecolor\": \"#443941\"}\n",
    "        )"
   ]
  },
  {
   "cell_type": "markdown",
   "metadata": {},
   "source": [
    "## Look at some General Trends with the overall Numbers -> df3"
   ]
  },
  {
   "cell_type": "code",
   "execution_count": 12,
   "metadata": {},
   "outputs": [
    {
     "data": {
      "text/html": [
       "<div>\n",
       "<style scoped>\n",
       "    .dataframe tbody tr th:only-of-type {\n",
       "        vertical-align: middle;\n",
       "    }\n",
       "\n",
       "    .dataframe tbody tr th {\n",
       "        vertical-align: top;\n",
       "    }\n",
       "\n",
       "    .dataframe thead th {\n",
       "        text-align: right;\n",
       "    }\n",
       "</style>\n",
       "<table border=\"1\" class=\"dataframe\">\n",
       "  <thead>\n",
       "    <tr style=\"text-align: right;\">\n",
       "      <th></th>\n",
       "      <th>year</th>\n",
       "      <th>name</th>\n",
       "      <th>gender</th>\n",
       "      <th>count</th>\n",
       "      <th>year_total</th>\n",
       "      <th>year_gender_total</th>\n",
       "      <th>gender_proportion</th>\n",
       "      <th>total_proportion</th>\n",
       "    </tr>\n",
       "  </thead>\n",
       "  <tbody>\n",
       "    <tr>\n",
       "      <th>0</th>\n",
       "      <td>1880</td>\n",
       "      <td>Mary</td>\n",
       "      <td>F</td>\n",
       "      <td>7065</td>\n",
       "      <td>201484</td>\n",
       "      <td>90994</td>\n",
       "      <td>0.077642</td>\n",
       "      <td>0.035065</td>\n",
       "    </tr>\n",
       "    <tr>\n",
       "      <th>1</th>\n",
       "      <td>1880</td>\n",
       "      <td>Anna</td>\n",
       "      <td>F</td>\n",
       "      <td>2604</td>\n",
       "      <td>201484</td>\n",
       "      <td>90994</td>\n",
       "      <td>0.028617</td>\n",
       "      <td>0.012924</td>\n",
       "    </tr>\n",
       "    <tr>\n",
       "      <th>2</th>\n",
       "      <td>1880</td>\n",
       "      <td>Emma</td>\n",
       "      <td>F</td>\n",
       "      <td>2003</td>\n",
       "      <td>201484</td>\n",
       "      <td>90994</td>\n",
       "      <td>0.022012</td>\n",
       "      <td>0.009941</td>\n",
       "    </tr>\n",
       "    <tr>\n",
       "      <th>3</th>\n",
       "      <td>1880</td>\n",
       "      <td>Elizabeth</td>\n",
       "      <td>F</td>\n",
       "      <td>1939</td>\n",
       "      <td>201484</td>\n",
       "      <td>90994</td>\n",
       "      <td>0.021309</td>\n",
       "      <td>0.009624</td>\n",
       "    </tr>\n",
       "    <tr>\n",
       "      <th>4</th>\n",
       "      <td>1880</td>\n",
       "      <td>Minnie</td>\n",
       "      <td>F</td>\n",
       "      <td>1746</td>\n",
       "      <td>201484</td>\n",
       "      <td>90994</td>\n",
       "      <td>0.019188</td>\n",
       "      <td>0.008666</td>\n",
       "    </tr>\n",
       "  </tbody>\n",
       "</table>\n",
       "</div>"
      ],
      "text/plain": [
       "   year       name gender  count  year_total  year_gender_total  \\\n",
       "0  1880       Mary      F   7065      201484              90994   \n",
       "1  1880       Anna      F   2604      201484              90994   \n",
       "2  1880       Emma      F   2003      201484              90994   \n",
       "3  1880  Elizabeth      F   1939      201484              90994   \n",
       "4  1880     Minnie      F   1746      201484              90994   \n",
       "\n",
       "   gender_proportion  total_proportion  \n",
       "0           0.077642          0.035065  \n",
       "1           0.028617          0.012924  \n",
       "2           0.022012          0.009941  \n",
       "3           0.021309          0.009624  \n",
       "4           0.019188          0.008666  "
      ]
     },
     "execution_count": 12,
     "metadata": {},
     "output_type": "execute_result"
    }
   ],
   "source": [
    "df.head()"
   ]
  },
  {
   "cell_type": "code",
   "execution_count": null,
   "metadata": {
    "collapsed": false
   },
   "outputs": [],
   "source": [
    "# Do this below with SQL only - Multi partition by clauses to get counts"
   ]
  },
  {
   "cell_type": "code",
   "execution_count": 8,
   "metadata": {
    "collapsed": false
   },
   "outputs": [
    {
     "name": "stdout",
     "output_type": "stream",
     "text": [
      "2023-12-31 21:12:42,836 INFO sqlalchemy.engine.Engine BEGIN (implicit)\n",
      "2023-12-31 21:12:42,837 INFO sqlalchemy.engine.Engine select fd._id, fd.year, fd.name, fd.gender, fd.count,\n",
      "       sum(fd.count) OVER (PARTITION BY fd.year) AS year_total,\n",
      "       sum(fd.count) OVER (PARTITION BY fd.year, fd.gender) AS year_gender_total\n",
      "       from federal_data fd;\n",
      "2023-12-31 21:12:42,838 INFO sqlalchemy.engine.Engine [generated in 0.00086s] ()\n",
      "2023-12-31 21:12:50,039 INFO sqlalchemy.engine.Engine ROLLBACK\n"
     ]
    }
   ],
   "source": [
    "from sqlalchemy import create_engine, select, text\n",
    "from sqlalchemy.orm import Session\n",
    "\n",
    "db_uri = r'sqlite:///data-dev.sqlite'\n",
    "engine = create_engine(db_uri, echo=True)\n",
    "\n",
    "query = '''select fd._id, fd.year, fd.name, fd.gender, fd.count,\n",
    "       sum(fd.count) OVER (PARTITION BY fd.year) AS year_total,\n",
    "       sum(fd.count) OVER (PARTITION BY fd.year, fd.gender) AS year_gender_total\n",
    "       from federal_data fd;'''\n",
    "\n",
    "with Session(engine) as session:\n",
    "    df = pd.DataFrame(session.execute(text(query)))\n"
   ]
  },
  {
   "cell_type": "code",
   "execution_count": 66,
   "metadata": {
    "collapsed": false
   },
   "outputs": [
    {
     "data": {
      "text/html": [
       "<div>\n",
       "<style scoped>\n",
       "    .dataframe tbody tr th:only-of-type {\n",
       "        vertical-align: middle;\n",
       "    }\n",
       "\n",
       "    .dataframe tbody tr th {\n",
       "        vertical-align: top;\n",
       "    }\n",
       "\n",
       "    .dataframe thead th {\n",
       "        text-align: right;\n",
       "    }\n",
       "</style>\n",
       "<table border=\"1\" class=\"dataframe\">\n",
       "  <thead>\n",
       "    <tr style=\"text-align: right;\">\n",
       "      <th></th>\n",
       "      <th>name</th>\n",
       "    </tr>\n",
       "  </thead>\n",
       "  <tbody>\n",
       "    <tr>\n",
       "      <th>178118</th>\n",
       "      <td>Odin</td>\n",
       "    </tr>\n",
       "    <tr>\n",
       "      <th>1953209</th>\n",
       "      <td>Mokshith</td>\n",
       "    </tr>\n",
       "    <tr>\n",
       "      <th>346452</th>\n",
       "      <td>Duard</td>\n",
       "    </tr>\n",
       "    <tr>\n",
       "      <th>1978682</th>\n",
       "      <td>Shaquille</td>\n",
       "    </tr>\n",
       "    <tr>\n",
       "      <th>1093523</th>\n",
       "      <td>Deacon</td>\n",
       "    </tr>\n",
       "    <tr>\n",
       "      <th>2016756</th>\n",
       "      <td>Matyas</td>\n",
       "    </tr>\n",
       "    <tr>\n",
       "      <th>1358875</th>\n",
       "      <td>Tyreque</td>\n",
       "    </tr>\n",
       "    <tr>\n",
       "      <th>481645</th>\n",
       "      <td>Gregrey</td>\n",
       "    </tr>\n",
       "    <tr>\n",
       "      <th>291071</th>\n",
       "      <td>Arno</td>\n",
       "    </tr>\n",
       "    <tr>\n",
       "      <th>1956910</th>\n",
       "      <td>Jorgen</td>\n",
       "    </tr>\n",
       "  </tbody>\n",
       "</table>\n",
       "</div>"
      ],
      "text/plain": [
       "              name\n",
       "178118        Odin\n",
       "1953209   Mokshith\n",
       "346452       Duard\n",
       "1978682  Shaquille\n",
       "1093523     Deacon\n",
       "2016756     Matyas\n",
       "1358875    Tyreque\n",
       "481645     Gregrey\n",
       "291071        Arno\n",
       "1956910     Jorgen"
      ]
     },
     "execution_count": 66,
     "metadata": {},
     "output_type": "execute_result"
    }
   ],
   "source": [
    "df[df['gender'] == 'M'][['name']].sample(10)"
   ]
  },
  {
   "cell_type": "code",
   "execution_count": 10,
   "metadata": {
    "collapsed": false
   },
   "outputs": [
    {
     "ename": "NameError",
     "evalue": "name 'plt' is not defined",
     "output_type": "error",
     "traceback": [
      "\u001b[0;31m---------------------------------------------------------------------------\u001b[0m",
      "\u001b[0;31mNameError\u001b[0m                                 Traceback (most recent call last)",
      "\u001b[1;32m/Users/zach/PycharmProjects/baby_flask/explore_data.ipynb Cell 26\u001b[0m line \u001b[0;36m1\n\u001b[1;32m      <a href='vscode-notebook-cell:/Users/zach/PycharmProjects/baby_flask/explore_data.ipynb#X33sZmlsZQ%3D%3D?line=2'>3</a>\u001b[0m df3 \u001b[39m=\u001b[39m df3\u001b[39m.\u001b[39mmerge(\n\u001b[1;32m      <a href='vscode-notebook-cell:/Users/zach/PycharmProjects/baby_flask/explore_data.ipynb#X33sZmlsZQ%3D%3D?line=3'>4</a>\u001b[0m     df[df[\u001b[39m'\u001b[39m\u001b[39mgender\u001b[39m\u001b[39m'\u001b[39m] \u001b[39m==\u001b[39m \u001b[39m'\u001b[39m\u001b[39mM\u001b[39m\u001b[39m'\u001b[39m]\u001b[39m.\u001b[39mrename(columns\u001b[39m=\u001b[39m{\u001b[39m\"\u001b[39m\u001b[39mcount\u001b[39m\u001b[39m\"\u001b[39m: \u001b[39m\"\u001b[39m\u001b[39mmale_count\u001b[39m\u001b[39m\"\u001b[39m}, inplace\u001b[39m=\u001b[39m\u001b[39mFalse\u001b[39;00m)\u001b[39m.\u001b[39mgroupby(\u001b[39m'\u001b[39m\u001b[39myear\u001b[39m\u001b[39m'\u001b[39m, as_index\u001b[39m=\u001b[39m\u001b[39mFalse\u001b[39;00m)[\u001b[39m'\u001b[39m\u001b[39mmale_count\u001b[39m\u001b[39m'\u001b[39m]\u001b[39m.\u001b[39msum(),\n\u001b[1;32m      <a href='vscode-notebook-cell:/Users/zach/PycharmProjects/baby_flask/explore_data.ipynb#X33sZmlsZQ%3D%3D?line=4'>5</a>\u001b[0m     how\u001b[39m=\u001b[39m\u001b[39m'\u001b[39m\u001b[39mleft\u001b[39m\u001b[39m'\u001b[39m,\n\u001b[1;32m      <a href='vscode-notebook-cell:/Users/zach/PycharmProjects/baby_flask/explore_data.ipynb#X33sZmlsZQ%3D%3D?line=5'>6</a>\u001b[0m     on\u001b[39m=\u001b[39m\u001b[39m'\u001b[39m\u001b[39myear\u001b[39m\u001b[39m'\u001b[39m\n\u001b[1;32m      <a href='vscode-notebook-cell:/Users/zach/PycharmProjects/baby_flask/explore_data.ipynb#X33sZmlsZQ%3D%3D?line=6'>7</a>\u001b[0m )\n\u001b[1;32m      <a href='vscode-notebook-cell:/Users/zach/PycharmProjects/baby_flask/explore_data.ipynb#X33sZmlsZQ%3D%3D?line=8'>9</a>\u001b[0m df3 \u001b[39m=\u001b[39m df3\u001b[39m.\u001b[39mmerge(\n\u001b[1;32m     <a href='vscode-notebook-cell:/Users/zach/PycharmProjects/baby_flask/explore_data.ipynb#X33sZmlsZQ%3D%3D?line=9'>10</a>\u001b[0m     df[df[\u001b[39m'\u001b[39m\u001b[39mgender\u001b[39m\u001b[39m'\u001b[39m] \u001b[39m==\u001b[39m \u001b[39m'\u001b[39m\u001b[39mF\u001b[39m\u001b[39m'\u001b[39m]\u001b[39m.\u001b[39mrename(columns\u001b[39m=\u001b[39m{\u001b[39m\"\u001b[39m\u001b[39mcount\u001b[39m\u001b[39m\"\u001b[39m: \u001b[39m\"\u001b[39m\u001b[39mfemale_count\u001b[39m\u001b[39m\"\u001b[39m}, inplace\u001b[39m=\u001b[39m\u001b[39mFalse\u001b[39;00m)\u001b[39m.\u001b[39mgroupby(\u001b[39m'\u001b[39m\u001b[39myear\u001b[39m\u001b[39m'\u001b[39m, as_index\u001b[39m=\u001b[39m\u001b[39mFalse\u001b[39;00m)[\u001b[39m'\u001b[39m\u001b[39mfemale_count\u001b[39m\u001b[39m'\u001b[39m]\u001b[39m.\u001b[39msum(),\n\u001b[1;32m     <a href='vscode-notebook-cell:/Users/zach/PycharmProjects/baby_flask/explore_data.ipynb#X33sZmlsZQ%3D%3D?line=10'>11</a>\u001b[0m     how\u001b[39m=\u001b[39m\u001b[39m'\u001b[39m\u001b[39mleft\u001b[39m\u001b[39m'\u001b[39m,\n\u001b[1;32m     <a href='vscode-notebook-cell:/Users/zach/PycharmProjects/baby_flask/explore_data.ipynb#X33sZmlsZQ%3D%3D?line=11'>12</a>\u001b[0m     on\u001b[39m=\u001b[39m\u001b[39m'\u001b[39m\u001b[39myear\u001b[39m\u001b[39m'\u001b[39m\n\u001b[1;32m     <a href='vscode-notebook-cell:/Users/zach/PycharmProjects/baby_flask/explore_data.ipynb#X33sZmlsZQ%3D%3D?line=12'>13</a>\u001b[0m )\n\u001b[0;32m---> <a href='vscode-notebook-cell:/Users/zach/PycharmProjects/baby_flask/explore_data.ipynb#X33sZmlsZQ%3D%3D?line=14'>15</a>\u001b[0m plt\u001b[39m.\u001b[39mplot(df3[\u001b[39m'\u001b[39m\u001b[39myear\u001b[39m\u001b[39m'\u001b[39m], df3[\u001b[39m'\u001b[39m\u001b[39mcount\u001b[39m\u001b[39m'\u001b[39m], label\u001b[39m=\u001b[39m\u001b[39m'\u001b[39m\u001b[39mtotal births\u001b[39m\u001b[39m'\u001b[39m)\n\u001b[1;32m     <a href='vscode-notebook-cell:/Users/zach/PycharmProjects/baby_flask/explore_data.ipynb#X33sZmlsZQ%3D%3D?line=15'>16</a>\u001b[0m plt\u001b[39m.\u001b[39mplot(df3[\u001b[39m'\u001b[39m\u001b[39myear\u001b[39m\u001b[39m'\u001b[39m], df3[\u001b[39m'\u001b[39m\u001b[39mmale_count\u001b[39m\u001b[39m'\u001b[39m], label\u001b[39m=\u001b[39m\u001b[39m'\u001b[39m\u001b[39mmale births\u001b[39m\u001b[39m'\u001b[39m)\n\u001b[1;32m     <a href='vscode-notebook-cell:/Users/zach/PycharmProjects/baby_flask/explore_data.ipynb#X33sZmlsZQ%3D%3D?line=16'>17</a>\u001b[0m plt\u001b[39m.\u001b[39mplot(df3[\u001b[39m'\u001b[39m\u001b[39myear\u001b[39m\u001b[39m'\u001b[39m], df3[\u001b[39m'\u001b[39m\u001b[39mfemale_count\u001b[39m\u001b[39m'\u001b[39m], label\u001b[39m=\u001b[39m\u001b[39m'\u001b[39m\u001b[39mfemale births\u001b[39m\u001b[39m'\u001b[39m)\n",
      "\u001b[0;31mNameError\u001b[0m: name 'plt' is not defined"
     ]
    }
   ],
   "source": [
    "df3 = df.groupby('year', as_index=False)['count'].sum()\n",
    "\n",
    "df3 = df3.merge(\n",
    "    df[df['gender'] == 'M'].rename(columns={\"count\": \"male_count\"}, inplace=False).groupby('year', as_index=False)['male_count'].sum(),\n",
    "    how='left',\n",
    "    on='year'\n",
    ")\n",
    "\n",
    "df3 = df3.merge(\n",
    "    df[df['gender'] == 'F'].rename(columns={\"count\": \"female_count\"}, inplace=False).groupby('year', as_index=False)['female_count'].sum(),\n",
    "    how='left',\n",
    "    on='year'\n",
    ")\n",
    "\n",
    "plt.plot(df3['year'], df3['count'], label='total births')\n",
    "plt.plot(df3['year'], df3['male_count'], label='male births')\n",
    "plt.plot(df3['year'], df3['female_count'], label='female births')\n",
    "plt.ticklabel_format(style='plain')\n",
    "plt.title(f\"Total Births Per Year from SSA Records\")\n",
    "plt.legend();"
   ]
  },
  {
   "cell_type": "markdown",
   "metadata": {},
   "source": [
    "## Pandas Profile Report"
   ]
  },
  {
   "cell_type": "code",
   "execution_count": 16,
   "metadata": {},
   "outputs": [
    {
     "data": {
      "application/vnd.jupyter.widget-view+json": {
       "model_id": "6e4fe0ff71d84940ae48a534c3a55070",
       "version_major": 2,
       "version_minor": 0
      },
      "text/plain": [
       "Summarize dataset:   0%|          | 0/5 [00:00<?, ?it/s]"
      ]
     },
     "metadata": {},
     "output_type": "display_data"
    },
    {
     "name": "stderr",
     "output_type": "stream",
     "text": [
      "C:\\Users\\z0f010w\\PycharmProjects\\baby_project\\venv\\lib\\site-packages\\multimethod\\__init__.py:315: FutureWarning: In a future version, `df.iloc[:, i] = newvals` will attempt to set the values inplace instead of always setting a new array. To retain the old behavior, use either `df[df.columns[i]] = newvals` or, if columns are non-unique, `df.isetitem(i, newvals)`\n",
      "  return func(*args, **kwargs)\n"
     ]
    },
    {
     "data": {
      "application/vnd.jupyter.widget-view+json": {
       "model_id": "6d7af3a223e1401b809defbe3a7522a7",
       "version_major": 2,
       "version_minor": 0
      },
      "text/plain": [
       "Generate report structure:   0%|          | 0/1 [00:00<?, ?it/s]"
      ]
     },
     "metadata": {},
     "output_type": "display_data"
    },
    {
     "data": {
      "application/vnd.jupyter.widget-view+json": {
       "model_id": "27259041856847a4b343bf07d5a15654",
       "version_major": 2,
       "version_minor": 0
      },
      "text/plain": [
       "Render HTML:   0%|          | 0/1 [00:00<?, ?it/s]"
      ]
     },
     "metadata": {},
     "output_type": "display_data"
    },
    {
     "data": {
      "application/vnd.jupyter.widget-view+json": {
       "model_id": "1aebf3048adc402588b3895a7e6e40c6",
       "version_major": 2,
       "version_minor": 0
      },
      "text/plain": [
       "Export report to file:   0%|          | 0/1 [00:00<?, ?it/s]"
      ]
     },
     "metadata": {},
     "output_type": "display_data"
    },
    {
     "name": "stdout",
     "output_type": "stream",
     "text": [
      "File report.html saved to C:\\Users\\z0f010w\\PycharmProjects\\baby_project\n"
     ]
    }
   ],
   "source": [
    "try:\n",
    "    import pandas as pd\n",
    "    from pandas_profiling import ProfileReport\n",
    "    import os\n",
    "except:\n",
    "    !pip install --user pandas-profiling\n",
    "    !jupyter nbextension enable --py widgetsnbextension\n",
    "    print('Restart the Kernel before proceeding')\n",
    "\n",
    "profile = ProfileReport(df, explorative=True, minimal=False)\n",
    "profile.to_file('baby_report.html')\n",
    "print('File report.html saved to '+os.getcwd())"
   ]
  },
  {
   "cell_type": "code",
   "execution_count": null,
   "metadata": {},
   "outputs": [],
   "source": [
    "def plot_specific_names(names):\n",
    "\n",
    "    for name in names:\n",
    "        name_df = df[df['name'] == name]\n",
    "        male_df = name_df[name_df['gender'] == 'M']\n",
    "        female_df = name_df[name_df['gender'] == 'F']\n",
    "\n",
    "        if len(male_df.index) > 0:\n",
    "            plt.plot(male_df['year'], male_df['gender_proportion'], label=f'{name} - Male')\n",
    "        else:\n",
    "            print(f\"No Males Named {name} since 1880.\")\n",
    "\n",
    "        if len(female_df.index) > 0:\n",
    "            plt.plot(female_df['year'], female_df['gender_proportion'], label=f'{name} - Female')\n",
    "        else:\n",
    "            print(f\"No Females Named {name} since 1880.\")\n",
    "\n",
    "    plt.title(f'{names} as % of all names each year')\n",
    "    plt.legend()\n",
    "\n",
    "def get_names_starts_with(starts_with, gender, df):\n",
    "    unique_gender_filter = df[df['gender'] == gender]\n",
    "    unique_starts_with_series = unique_gender_filter[unique_gender_filter['name'].str.startswith(starts_with)]['name'].unique()\n",
    "    # Group by name, merge into the series\n",
    "    df = None\n",
    "    df = unique_starts_with_series.merge(\n",
    "        unique_starts_with_series.groupby('name', as_index=False)['count'].sum(),\n",
    "        how='inner',\n",
    "        on='name')\n",
    "\n",
    "    return df\n",
    "\n",
    "def get_popular_starts_with(starts_with):\n",
    "    return None"
   ]
  },
  {
   "cell_type": "code",
   "execution_count": null,
   "metadata": {},
   "outputs": [],
   "source": [
    "plot_specific_names(['Raya', 'Ryan'])"
   ]
  },
  {
   "cell_type": "code",
   "execution_count": null,
   "metadata": {},
   "outputs": [],
   "source": [
    "# Find names that were popular before x date and have become popular since x date?\n",
    "a = get_names_starts_with('B', 'F', df2)\n",
    "a.head()"
   ]
  },
  {
   "cell_type": "code",
   "execution_count": null,
   "metadata": {},
   "outputs": [],
   "source": [
    "# Names that used to be more popular in one gender but are becoming more popular in another gender\n",
    "# Predictions for names by letter (top 10)?\n",
    "# Top \"unusually names per year\" and predictions for next year based on current trends"
   ]
  }
 ],
 "metadata": {
  "kernelspec": {
   "display_name": "Python 3 (ipykernel)",
   "language": "python",
   "name": "python3"
  },
  "language_info": {
   "codemirror_mode": {
    "name": "ipython",
    "version": 3
   },
   "file_extension": ".py",
   "mimetype": "text/x-python",
   "name": "python",
   "nbconvert_exporter": "python",
   "pygments_lexer": "ipython3",
   "version": "3.11.4"
  }
 },
 "nbformat": 4,
 "nbformat_minor": 1
}
